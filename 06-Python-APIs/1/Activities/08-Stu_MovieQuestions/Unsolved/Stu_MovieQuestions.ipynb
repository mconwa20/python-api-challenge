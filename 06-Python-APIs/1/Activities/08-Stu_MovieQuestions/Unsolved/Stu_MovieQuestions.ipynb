{
 "cells": [
  {
   "cell_type": "code",
   "execution_count": 1,
   "metadata": {},
   "outputs": [],
   "source": [
    "# Dependencies\n",
    "import requests\n",
    "from config import api_key\n",
    "from pprint import pprint\n",
    "\n",
    "url = f\"http://www.omdbapi.com/?apikey=trilogy&t=\"\n",
    "api_key = \"&apikey=\" + api_key"
   ]
  },
  {
   "cell_type": "code",
   "execution_count": 10,
   "metadata": {},
   "outputs": [
    {
     "name": "stdout",
     "output_type": "stream",
     "text": [
      "{'Actors': 'Sigourney Weaver, Carrie Henn, Michael Biehn, Paul Reiser',\n",
      " 'Awards': 'Won 2 Oscars. Another 18 wins & 23 nominations.',\n",
      " 'BoxOffice': '$85,160,248',\n",
      " 'Country': 'USA',\n",
      " 'DVD': 'N/A',\n",
      " 'Director': 'James Cameron',\n",
      " 'Genre': 'Action, Adventure, Sci-Fi, Thriller',\n",
      " 'Language': 'English',\n",
      " 'Metascore': '84',\n",
      " 'Plot': 'Fifty-seven years after surviving an apocalyptic attack aboard her '\n",
      "         'space vessel by merciless space creatures, Officer Ripley awakens '\n",
      "         'from hyper-sleep and tries to warn anyone who will listen about the '\n",
      "         'predators.',\n",
      " 'Poster': 'https://m.media-amazon.com/images/M/MV5BZGU2OGY5ZTYtMWNhYy00NjZiLWI0NjUtZmNhY2JhNDRmODU3XkEyXkFqcGdeQXVyNzkwMjQ5NzM@._V1_SX300.jpg',\n",
      " 'Production': 'Twentieth Century Fox, Brandywine Productions',\n",
      " 'Rated': 'R',\n",
      " 'Ratings': [{'Source': 'Internet Movie Database', 'Value': '8.3/10'},\n",
      "             {'Source': 'Rotten Tomatoes', 'Value': '97%'},\n",
      "             {'Source': 'Metacritic', 'Value': '84/100'}],\n",
      " 'Released': '18 Jul 1986',\n",
      " 'Response': 'True',\n",
      " 'Runtime': '137 min',\n",
      " 'Title': 'Aliens',\n",
      " 'Type': 'movie',\n",
      " 'Website': 'N/A',\n",
      " 'Writer': 'James Cameron (story by), David Giler (story by), Walter Hill '\n",
      "           \"(story by), Dan O'Bannon (based on characters created by), Ronald \"\n",
      "           'Shusett (based on characters created by), James Cameron '\n",
      "           '(screenplay by)',\n",
      " 'Year': '1986',\n",
      " 'imdbID': 'tt0090605',\n",
      " 'imdbRating': '8.3',\n",
      " 'imdbVotes': '651,238'}\n"
     ]
    },
    {
     "data": {
      "text/plain": [
       "'James Cameron'"
      ]
     },
     "execution_count": 10,
     "metadata": {},
     "output_type": "execute_result"
    }
   ],
   "source": [
    "# Who was the director of the movie Aliens?\n",
    "response = requests.get(url + \"Aliens\")\n",
    "\n",
    "aliens_data = response.json()\n",
    "pprint(aliens_data)"
   ]
  },
  {
   "cell_type": "code",
   "execution_count": 11,
   "metadata": {},
   "outputs": [
    {
     "data": {
      "text/plain": [
       "'James Cameron'"
      ]
     },
     "execution_count": 11,
     "metadata": {},
     "output_type": "execute_result"
    }
   ],
   "source": [
    "aliens_data[\"Director\"]"
   ]
  },
  {
   "cell_type": "code",
   "execution_count": null,
   "metadata": {
    "scrolled": true
   },
   "outputs": [],
   "source": [
    "# What was the movie Gladiator rated?"
   ]
  },
  {
   "cell_type": "code",
   "execution_count": 7,
   "metadata": {},
   "outputs": [
    {
     "name": "stdout",
     "output_type": "stream",
     "text": [
      "{'Actors': 'Adam Sandler, Drew Barrymore, Rob Schneider, Sean Astin',\n",
      " 'Awards': '6 wins & 10 nominations.',\n",
      " 'BoxOffice': '$120,908,074',\n",
      " 'Country': 'USA',\n",
      " 'DVD': 'N/A',\n",
      " 'Director': 'Peter Segal',\n",
      " 'Genre': 'Comedy, Drama, Romance',\n",
      " 'Language': 'English, Hawaiian, Mandarin',\n",
      " 'Metascore': '48',\n",
      " 'Plot': 'Henry Roth is a man afraid of commitment until he meets the '\n",
      "         \"beautiful Lucy. They hit it off and Henry think he's finally found \"\n",
      "         'the girl of his dreams until discovering she has short-term memory '\n",
      "         'loss and forgets him the next day.',\n",
      " 'Poster': 'https://m.media-amazon.com/images/M/MV5BMjAwMzc4MDgxNF5BMl5BanBnXkFtZTYwNjUwMzE3._V1_SX300.jpg',\n",
      " 'Production': 'Happy Madison Productions, Flower Films, Anonymous Content, '\n",
      "               'Columbia Pictures Corporation',\n",
      " 'Rated': 'PG-13',\n",
      " 'Ratings': [{'Source': 'Internet Movie Database', 'Value': '6.8/10'},\n",
      "             {'Source': 'Rotten Tomatoes', 'Value': '45%'},\n",
      "             {'Source': 'Metacritic', 'Value': '48/100'}],\n",
      " 'Released': '13 Feb 2004',\n",
      " 'Response': 'True',\n",
      " 'Runtime': '99 min',\n",
      " 'Title': '50 First Dates',\n",
      " 'Type': 'movie',\n",
      " 'Website': 'N/A',\n",
      " 'Writer': 'George Wing',\n",
      " 'Year': '2004',\n",
      " 'imdbID': 'tt0343660',\n",
      " 'imdbRating': '6.8',\n",
      " 'imdbVotes': '326,455'}\n"
     ]
    }
   ],
   "source": [
    "# What year was 50 First Dates released?\n",
    "response = requests.get(url + \"50 First Dates\")\n",
    "\n",
    "firstdate_data = response.json()\n",
    "pprint(firstdate_data)"
   ]
  },
  {
   "cell_type": "code",
   "execution_count": 9,
   "metadata": {},
   "outputs": [
    {
     "data": {
      "text/plain": [
       "'13 Feb 2004'"
      ]
     },
     "execution_count": 9,
     "metadata": {},
     "output_type": "execute_result"
    }
   ],
   "source": [
    "firstdate_data[\"Released\"]"
   ]
  },
  {
   "cell_type": "code",
   "execution_count": 5,
   "metadata": {
    "scrolled": true
   },
   "outputs": [
    {
     "name": "stdout",
     "output_type": "stream",
     "text": [
      "{'Actors': \"Auli'i Cravalho, Dwayne Johnson, Rachel House, Temuera Morrison\",\n",
      " 'Awards': 'Nominated for 2 Oscars. Another 20 wins & 86 nominations.',\n",
      " 'BoxOffice': '$248,757,044',\n",
      " 'Country': 'USA',\n",
      " 'DVD': 'N/A',\n",
      " 'Director': 'Ron Clements, John Musker, Don Hall(co-director), Chris '\n",
      "             'Williams(co-director)',\n",
      " 'Genre': 'Animation, Adventure, Comedy, Family, Fantasy, Musical',\n",
      " 'Language': 'English, French',\n",
      " 'Metascore': '81',\n",
      " 'Plot': 'In Ancient Polynesia, when a terrible curse incurred by the Demigod '\n",
      "         \"Maui reaches Moana's island, she answers the Ocean's call to seek \"\n",
      "         'out the Demigod to set things right.',\n",
      " 'Poster': 'https://m.media-amazon.com/images/M/MV5BMjI4MzU5NTExNF5BMl5BanBnXkFtZTgwNzY1MTEwMDI@._V1_SX300.jpg',\n",
      " 'Production': 'Walt Disney Animation Studios',\n",
      " 'Rated': 'PG',\n",
      " 'Ratings': [{'Source': 'Internet Movie Database', 'Value': '7.6/10'},\n",
      "             {'Source': 'Rotten Tomatoes', 'Value': '95%'},\n",
      "             {'Source': 'Metacritic', 'Value': '81/100'}],\n",
      " 'Released': '23 Nov 2016',\n",
      " 'Response': 'True',\n",
      " 'Runtime': '107 min',\n",
      " 'Title': 'Moana',\n",
      " 'Type': 'movie',\n",
      " 'Website': 'N/A',\n",
      " 'Writer': 'Jared Bush (screenplay by), Ron Clements (story by), John Musker '\n",
      "           '(story by), Chris Williams (story by), Don Hall (story by), Pamela '\n",
      "           'Ribon (story by), Aaron Kandell (story by), Jordan Kandell (story '\n",
      "           'by)',\n",
      " 'Year': '2016',\n",
      " 'imdbID': 'tt3521164',\n",
      " 'imdbRating': '7.6',\n",
      " 'imdbVotes': '271,991'}\n"
     ]
    }
   ],
   "source": [
    "# Who wrote Moana?\n",
    "response = requests.get(url + \"Moana\")\n",
    "\n",
    "moana_data = response.json()\n",
    "pprint(moana_data)"
   ]
  },
  {
   "cell_type": "code",
   "execution_count": 6,
   "metadata": {},
   "outputs": [
    {
     "data": {
      "text/plain": [
       "'Jared Bush (screenplay by), Ron Clements (story by), John Musker (story by), Chris Williams (story by), Don Hall (story by), Pamela Ribon (story by), Aaron Kandell (story by), Jordan Kandell (story by)'"
      ]
     },
     "execution_count": 6,
     "metadata": {},
     "output_type": "execute_result"
    }
   ],
   "source": [
    "moana_data[\"Writer\"]"
   ]
  },
  {
   "cell_type": "code",
   "execution_count": null,
   "metadata": {
    "scrolled": true
   },
   "outputs": [],
   "source": [
    "# What was the plot of the movie Sing?"
   ]
  }
 ],
 "metadata": {
  "kernelspec": {
   "display_name": "Python 3",
   "language": "python",
   "name": "python3"
  },
  "language_info": {
   "codemirror_mode": {
    "name": "ipython",
    "version": 3
   },
   "file_extension": ".py",
   "mimetype": "text/x-python",
   "name": "python",
   "nbconvert_exporter": "python",
   "pygments_lexer": "ipython3",
   "version": "3.6.10"
  },
  "varInspector": {
   "cols": {
    "lenName": 16,
    "lenType": 16,
    "lenVar": 40
   },
   "kernels_config": {
    "python": {
     "delete_cmd_postfix": "",
     "delete_cmd_prefix": "del ",
     "library": "var_list.py",
     "varRefreshCmd": "print(var_dic_list())"
    },
    "r": {
     "delete_cmd_postfix": ") ",
     "delete_cmd_prefix": "rm(",
     "library": "var_list.r",
     "varRefreshCmd": "cat(var_dic_list()) "
    }
   },
   "types_to_exclude": [
    "module",
    "function",
    "builtin_function_or_method",
    "instance",
    "_Feature"
   ],
   "window_display": false
  }
 },
 "nbformat": 4,
 "nbformat_minor": 2
}
