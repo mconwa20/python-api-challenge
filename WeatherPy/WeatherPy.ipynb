{
 "cells": [
  {
   "cell_type": "markdown",
   "metadata": {},
   "source": [
    "# WeatherPy\n",
    "----\n",
    "\n",
    "#### Note\n",
    "* Instructions have been included for each segment. You do not have to follow them exactly, but they are included to help you think through the steps."
   ]
  },
  {
   "cell_type": "code",
   "execution_count": 2,
   "metadata": {
    "scrolled": true
   },
   "outputs": [],
   "source": [
    "# Dependencies and Setup\n",
    "import matplotlib.pyplot as plt\n",
    "import pandas as pd\n",
    "import numpy as np\n",
    "import requests\n",
    "import time\n",
    "from scipy.stats import linregress\n",
    "\n",
    "# Import API key\n",
    "from api_keys import weather_api_key\n",
    "\n",
    "# Incorporated citipy to determine city based on latitude and longitude\n",
    "from citipy import citipy\n",
    "\n",
    "# Range of latitudes and longitudes\n",
    "lat_range = (-90, 90)\n",
    "lng_range = (-180, 180)"
   ]
  },
  {
   "cell_type": "markdown",
   "metadata": {},
   "source": [
    "## Generate Cities List"
   ]
  },
  {
   "cell_type": "code",
   "execution_count": 3,
   "metadata": {},
   "outputs": [
    {
     "data": {
      "text/plain": [
       "599"
      ]
     },
     "execution_count": 3,
     "metadata": {},
     "output_type": "execute_result"
    }
   ],
   "source": [
    "# List for holding lat_lngs and cities\n",
    "lat_lngs = []\n",
    "cities = []\n",
    "\n",
    "# Create a set of random lat and lng combinations\n",
    "lats = np.random.uniform(lat_range[0], lat_range[1], size=1500)\n",
    "lngs = np.random.uniform(lng_range[0], lng_range[1], size=1500)\n",
    "lat_lngs = zip(lats, lngs)\n",
    "\n",
    "# Identify nearest city for each lat, lng combination\n",
    "for lat_lng in lat_lngs:\n",
    "    city = citipy.nearest_city(lat_lng[0], lat_lng[1]).city_name\n",
    "    \n",
    "    # If the city is unique, then add it to a our cities list\n",
    "    if city not in cities:\n",
    "        cities.append(city)\n",
    "\n",
    "# Print the city count to confirm sufficient count\n",
    "len(cities)"
   ]
  },
  {
   "cell_type": "markdown",
   "metadata": {},
   "source": [
    "### Perform API Calls\n",
    "* Perform a weather check on each city using a series of successive API calls.\n",
    "* Include a print log of each city as it'sbeing processed (with the city number and city name).\n"
   ]
  },
  {
   "cell_type": "code",
   "execution_count": 4,
   "metadata": {
    "scrolled": true
   },
   "outputs": [
    {
     "name": "stdout",
     "output_type": "stream",
     "text": [
      "Beginning Data Retrieval\n",
      "-----------------------\n",
      "Processing Record 1 | Ponta do Sol\n",
      "Processing Record 2 | Bredasdorp\n",
      "Processing Record 3 | Kajaani\n",
      "Processing Record 4 | Riyadh\n",
      "Processing Record 5 | Faya\n",
      "Processing Record 6 | Vkhodnoy\n",
      "Processing Record 7 | Avarua\n",
      "Processing Record 8 | Rikitea\n",
      "City not found...\n",
      "Processing Record 9 | Ushuaia\n",
      "Processing Record 10 | Ahipara\n",
      "Processing Record 11 | Tasiilaq\n",
      "Processing Record 12 | Dikson\n",
      "Processing Record 13 | Albany\n",
      "Processing Record 14 | Roald\n",
      "Processing Record 15 | Srednekolymsk\n",
      "Processing Record 16 | Qaanaaq\n",
      "Processing Record 17 | Hilo\n",
      "Processing Record 18 | Ōarai\n",
      "Processing Record 19 | Khatanga\n",
      "Processing Record 20 | Hingorja\n",
      "Processing Record 21 | Hanna\n",
      "Processing Record 22 | Margate\n",
      "City not found...\n",
      "Processing Record 23 | Narsaq\n",
      "Processing Record 24 | Sirte\n",
      "City not found...\n",
      "Processing Record 25 | Scarborough\n",
      "Processing Record 26 | Yellowknife\n",
      "Processing Record 27 | San Patricio\n",
      "City not found...\n",
      "Processing Record 28 | Nanortalik\n",
      "Processing Record 29 | Conde\n",
      "Processing Record 30 | Sinop Province\n",
      "Processing Record 31 | Hobart\n",
      "Processing Record 32 | San Jerónimo\n",
      "Processing Record 33 | Tuktoyaktuk\n",
      "City not found...\n",
      "Processing Record 34 | Puerto Ayora\n",
      "City not found...\n",
      "Processing Record 35 | Kahului\n",
      "Processing Record 36 | Gijang\n",
      "Processing Record 37 | Coyhaique\n",
      "City not found...\n",
      "Processing Record 38 | Lebu\n",
      "Processing Record 39 | Talnakh\n",
      "Processing Record 40 | Pergamino\n",
      "Processing Record 41 | Vaini\n",
      "Processing Record 42 | Barrow\n",
      "Processing Record 43 | Marrakesh\n",
      "Processing Record 44 | Korla\n",
      "Processing Record 45 | Vitim\n",
      "Processing Record 46 | Hermanus\n",
      "Processing Record 47 | Vostok\n",
      "Processing Record 48 | Kruisfontein\n",
      "Processing Record 49 | Hobyo\n",
      "Processing Record 50 | Husavik\n",
      "Processing Record 51 | Castro\n",
      "Processing Record 52 | Sumenep\n",
      "Processing Record 53 | Cape Town\n",
      "Processing Record 54 | Markova\n",
      "Processing Record 55 | Port Alfred\n",
      "Processing Record 56 | Airai\n",
      "Processing Record 57 | Tuatapere\n",
      "Processing Record 58 | Clyde River\n",
      "Processing Record 59 | Poum\n",
      "City not found...\n",
      "Processing Record 60 | Atuona\n",
      "City not found...\n",
      "Processing Record 61 | Jimma\n",
      "Processing Record 62 | Thompson\n",
      "Processing Record 63 | Katherine\n",
      "Processing Record 64 | Tura\n",
      "Processing Record 65 | Babstovo\n",
      "Processing Record 66 | Caravelas\n",
      "Processing Record 67 | Arraial do Cabo\n",
      "City not found...\n",
      "Processing Record 68 | Busselton\n",
      "Processing Record 69 | Fortuna\n",
      "City not found...\n",
      "Processing Record 70 | Katsuura\n",
      "Processing Record 71 | Kapaa\n",
      "City not found...\n",
      "City not found...\n",
      "Processing Record 72 | Chokurdakh\n",
      "Processing Record 73 | Ouégoa\n",
      "City not found...\n",
      "Processing Record 74 | Luga\n",
      "Processing Record 75 | Sittwe\n",
      "Processing Record 76 | Luorong\n",
      "Processing Record 77 | La Rioja\n",
      "Processing Record 78 | Ōfunato\n",
      "Processing Record 79 | Vallenar\n",
      "Processing Record 80 | Mossamedes\n",
      "Processing Record 81 | Wasilla\n",
      "Processing Record 82 | Arawa\n",
      "Processing Record 83 | Vila Velha\n",
      "Processing Record 84 | Khani\n",
      "Processing Record 85 | New Norfolk\n",
      "Processing Record 86 | Bethel\n",
      "Processing Record 87 | Ransang\n",
      "Processing Record 88 | Lipari\n",
      "Processing Record 89 | Nikolskoye\n",
      "Processing Record 90 | Upernavik\n",
      "Processing Record 91 | Yangi Marg`ilon\n",
      "Processing Record 92 | Bluff\n",
      "Processing Record 93 | Grootfontein\n",
      "Processing Record 94 | Cidreira\n",
      "Processing Record 95 | Butaritari\n",
      "City not found...\n",
      "Processing Record 96 | Lavrentiya\n",
      "Processing Record 97 | Celestún\n",
      "Processing Record 98 | Poya\n",
      "Processing Record 99 | Punta Arenas\n",
      "Processing Record 100 | Bambous Virieux\n",
      "Processing Record 101 | Makkah al Mukarramah\n",
      "Processing Record 102 | Jamestown\n",
      "Processing Record 103 | Muzhi\n",
      "Processing Record 104 | Provideniya\n",
      "Processing Record 105 | Almaznyy\n",
      "Processing Record 106 | Haines Junction\n",
      "Processing Record 107 | Lieksa\n",
      "Processing Record 108 | Faanui\n",
      "Processing Record 109 | Lorengau\n",
      "Processing Record 110 | Mataura\n",
      "Processing Record 111 | Vokhma\n",
      "Processing Record 112 | Mil'kovo\n",
      "Processing Record 113 | Nome\n",
      "Processing Record 114 | Tayshet\n",
      "Processing Record 115 | Ribeira Grande\n",
      "Processing Record 116 | Tromsø\n",
      "Processing Record 117 | San Cristobal\n",
      "Processing Record 118 | Kamenka\n",
      "Processing Record 119 | Hamilton\n",
      "Processing Record 120 | Grindavik\n",
      "Processing Record 121 | Kalabo\n",
      "Processing Record 122 | Longyearbyen\n",
      "Processing Record 123 | Te Anau\n",
      "Processing Record 124 | Saskylakh\n",
      "Processing Record 125 | Saint George\n",
      "Processing Record 126 | Morondava\n",
      "Processing Record 127 | Souillac\n",
      "City not found...\n",
      "Processing Record 128 | College\n",
      "Processing Record 129 | Amritsar\n",
      "Processing Record 130 | Galveston\n",
      "Processing Record 131 | Petropavlovka\n",
      "Processing Record 132 | Geraldton\n",
      "Processing Record 133 | Petropavlovsk-Kamchatskiy\n",
      "Processing Record 134 | Cabo San Lucas\n",
      "Processing Record 135 | Sonoita\n",
      "City not found...\n",
      "Processing Record 136 | Cayenne\n",
      "Processing Record 137 | High Level\n",
      "Processing Record 138 | Kavieng\n",
      "Processing Record 139 | Berdigestyakh\n",
      "Processing Record 140 | Galesong\n",
      "Processing Record 141 | Constitución\n",
      "Processing Record 142 | Loei\n",
      "Processing Record 143 | Tafalla\n",
      "Processing Record 144 | Carnarvon\n",
      "Processing Record 145 | Saint Paul Harbor\n",
      "Processing Record 146 | Lüderitz\n",
      "Processing Record 147 | Oddur\n",
      "Processing Record 148 | Broome\n",
      "Processing Record 149 | Cherskiy\n",
      "Processing Record 150 | Zhigansk\n",
      "Processing Record 151 | Philadelphia\n",
      "Processing Record 152 | Ixtapa\n",
      "Processing Record 153 | Tuy Hoa\n",
      "City not found...\n",
      "Processing Record 154 | Hyères\n",
      "Processing Record 155 | Padang\n",
      "Processing Record 156 | Lompoc\n",
      "Processing Record 157 | Valdivia\n",
      "Processing Record 158 | Jinchang\n",
      "Processing Record 159 | Telimele\n",
      "Processing Record 160 | Knysna\n",
      "Processing Record 161 | Henties Bay\n",
      "Processing Record 162 | Dunedin\n",
      "Processing Record 163 | Mon\n",
      "Processing Record 164 | São Félix do Xingu\n",
      "Processing Record 165 | Pedernales\n",
      "Processing Record 166 | Marion\n",
      "Processing Record 167 | Kondinskoye\n",
      "Processing Record 168 | Miraflores\n",
      "Processing Record 169 | Yar-Sale\n",
      "Processing Record 170 | Bengkulu\n",
      "Processing Record 171 | Las Vegas\n",
      "Processing Record 172 | Severo-Kuril'sk\n",
      "City not found...\n",
      "Processing Record 173 | Andros Town\n",
      "Processing Record 174 | Iqaluit\n",
      "Processing Record 175 | Hong Kong\n",
      "Processing Record 176 | Kolāras\n",
      "City not found...\n",
      "Processing Record 177 | Wichita Falls\n",
      "Processing Record 178 | Bonthe\n",
      "Processing Record 179 | Vardø\n",
      "Processing Record 180 | Manuk Mangkaw\n",
      "Processing Record 181 | Mount Gambier\n",
      "Processing Record 182 | Independence\n",
      "Processing Record 183 | Mtimbira\n",
      "Processing Record 184 | Beliş\n",
      "Processing Record 185 | Kandava\n",
      "Processing Record 186 | Storforshei\n",
      "City not found...\n",
      "Processing Record 187 | Guerrero Negro\n",
      "Processing Record 188 | Banda Aceh\n",
      "Processing Record 189 | Norman Wells\n",
      "Processing Record 190 | Kapoeta\n",
      "Processing Record 191 | Pevek\n",
      "Processing Record 192 | Mount Isa\n",
      "Processing Record 193 | George Town\n",
      "Processing Record 194 | Alice Springs\n",
      "Processing Record 195 | Sioux Lookout\n",
      "Processing Record 196 | Port Hardy\n",
      "Processing Record 197 | Ilulissat\n",
      "Processing Record 198 | Safford\n",
      "Processing Record 199 | Manavālakurichi\n",
      "Processing Record 200 | San Vicente\n",
      "Processing Record 201 | Fernandina Beach\n",
      "Processing Record 202 | Sarakhs\n",
      "Processing Record 203 | Aykhal\n",
      "Processing Record 204 | Port Blair\n",
      "Processing Record 205 | Aklavik\n",
      "Processing Record 206 | East London\n",
      "Processing Record 207 | Udachny\n",
      "Processing Record 208 | Goderich\n",
      "Processing Record 209 | Laas\n",
      "Processing Record 210 | Andenes\n",
      "Processing Record 211 | Kuching\n",
      "City not found...\n",
      "Processing Record 212 | San Rafael\n",
      "Processing Record 213 | Vitória do Mearim\n",
      "Processing Record 214 | Hervey Bay\n",
      "Processing Record 215 | Jinka\n",
      "Processing Record 216 | Kununurra\n",
      "Processing Record 217 | Ambilobe\n",
      "Processing Record 218 | Ganzhou\n",
      "Processing Record 219 | Guayatá\n",
      "City not found...\n",
      "Processing Record 220 | Nioro\n",
      "Processing Record 221 | Hasaki\n",
      "Processing Record 222 | Ust-Tsilma\n",
      "Processing Record 223 | Mbaïki\n",
      "Processing Record 224 | Kupino\n",
      "Processing Record 225 | High Prairie\n",
      "Processing Record 226 | Oranjemund\n",
      "Processing Record 227 | Ejido\n",
      "Processing Record 228 | Mar del Plata\n",
      "Processing Record 229 | Pangnirtung\n",
      "City not found...\n",
      "Processing Record 230 | Portland\n",
      "Processing Record 231 | Hambantota\n",
      "Processing Record 232 | Kenai\n",
      "Processing Record 233 | Mahébourg\n",
      "Processing Record 234 | Uruçuí\n"
     ]
    },
    {
     "name": "stdout",
     "output_type": "stream",
     "text": [
      "Processing Record 235 | San Borja\n",
      "City not found...\n",
      "Processing Record 236 | Kaitangata\n",
      "City not found...\n",
      "Processing Record 237 | Glendive\n",
      "Processing Record 238 | Vestmannaeyjar\n",
      "Processing Record 239 | Gimbi\n",
      "City not found...\n",
      "Processing Record 240 | Ufa\n",
      "Processing Record 241 | La Ronge\n",
      "City not found...\n",
      "Processing Record 242 | Capinópolis\n",
      "Processing Record 243 | Boddam\n",
      "Processing Record 244 | Ostrovnoy\n",
      "City not found...\n",
      "Processing Record 245 | Chumikan\n",
      "Processing Record 246 | Nuquí\n",
      "Processing Record 247 | Hofn\n",
      "Processing Record 248 | Belyy Yar\n",
      "Processing Record 249 | São Filipe\n",
      "Processing Record 250 | Kazanskaya\n",
      "Processing Record 251 | Strezhevoy\n",
      "Processing Record 252 | Troitskoye\n",
      "Processing Record 253 | Kenitra\n",
      "City not found...\n",
      "Processing Record 254 | Coolum Beach\n",
      "Processing Record 255 | Meulaboh\n",
      "Processing Record 256 | Hualmay\n",
      "Processing Record 257 | Adrar\n",
      "Processing Record 258 | Riverton\n",
      "Processing Record 259 | Nemuro\n",
      "Processing Record 260 | Ovruch\n",
      "Processing Record 261 | Salalah\n",
      "Processing Record 262 | Tezu\n",
      "Processing Record 263 | Qujing\n",
      "Processing Record 264 | Emba\n",
      "Processing Record 265 | Chiang Rai\n",
      "Processing Record 266 | Hirara\n",
      "Processing Record 267 | Esperance\n",
      "Processing Record 268 | Aswān\n",
      "Processing Record 269 | Matara\n",
      "Processing Record 270 | Pacific Grove\n",
      "Processing Record 271 | Boa Vista\n",
      "Processing Record 272 | Jatai\n",
      "Processing Record 273 | Torbay\n",
      "Processing Record 274 | Abū Zabad\n",
      "Processing Record 275 | Tashla\n",
      "Processing Record 276 | Brus Laguna\n",
      "Processing Record 277 | Acarí\n",
      "Processing Record 278 | Mangaratiba\n",
      "Processing Record 279 | Talcahuano\n",
      "Processing Record 280 | Westport\n",
      "Processing Record 281 | Khāsh\n",
      "Processing Record 282 | Aiquile\n",
      "Processing Record 283 | Chui\n",
      "Processing Record 284 | Vostochnyy\n",
      "Processing Record 285 | Grand Gaube\n",
      "Processing Record 286 | Tiksi\n",
      "Processing Record 287 | Aksu\n",
      "Processing Record 288 | La Libertad\n",
      "Processing Record 289 | Jiuquan\n",
      "City not found...\n",
      "Processing Record 290 | Saint-Philippe\n",
      "City not found...\n",
      "Processing Record 291 | Itoman\n",
      "Processing Record 292 | Baykit\n",
      "Processing Record 293 | Shimoda\n",
      "City not found...\n",
      "Processing Record 294 | Batemans Bay\n",
      "Processing Record 295 | Laguna\n",
      "Processing Record 296 | Karratha\n",
      "Processing Record 297 | Ufimskiy\n",
      "Processing Record 298 | Sola\n",
      "Processing Record 299 | Manakara\n",
      "Processing Record 300 | Port Elizabeth\n",
      "Processing Record 301 | Beringovskiy\n",
      "Processing Record 302 | Xihe\n",
      "Processing Record 303 | Zaoyang\n",
      "City not found...\n",
      "Processing Record 304 | Zhangye\n",
      "Processing Record 305 | Patos\n",
      "Processing Record 306 | Guane\n",
      "Processing Record 307 | Sur\n",
      "Processing Record 308 | San Juan\n",
      "Processing Record 309 | Killybegs\n",
      "Processing Record 310 | Northam\n",
      "Processing Record 311 | Beloha\n",
      "Processing Record 312 | Grafton\n",
      "Processing Record 313 | Mookane\n",
      "Processing Record 314 | Bay Roberts\n",
      "Processing Record 315 | Kabalo\n",
      "Processing Record 316 | Zharkent\n",
      "Processing Record 317 | Avera\n",
      "Processing Record 318 | Bilibino\n",
      "Processing Record 319 | Tekeli\n",
      "Processing Record 320 | Los Llanos de Aridane\n",
      "Processing Record 321 | Wakkanai\n",
      "Processing Record 322 | Tanout\n",
      "City not found...\n",
      "Processing Record 323 | Ginda\n",
      "City not found...\n",
      "Processing Record 324 | Bandarbeyla\n",
      "Processing Record 325 | Bulancak\n",
      "Processing Record 326 | Turukhansk\n",
      "Processing Record 327 | Onega\n",
      "Processing Record 328 | Tadine\n",
      "Processing Record 329 | Samarai\n",
      "Processing Record 330 | Mastic Beach\n",
      "Processing Record 331 | Havre-St-Pierre\n",
      "Processing Record 332 | Tucupita\n",
      "Processing Record 333 | Hithadhoo\n",
      "Processing Record 334 | Gáldar\n",
      "City not found...\n",
      "Processing Record 335 | Truro\n",
      "Processing Record 336 | Umluj\n",
      "Processing Record 337 | Klaksvík\n",
      "Processing Record 338 | Ruidoso\n",
      "Processing Record 339 | Mizdah\n",
      "Processing Record 340 | Puerto Madryn\n",
      "Processing Record 341 | Fairbanks\n",
      "Processing Record 342 | Kabinda\n",
      "Processing Record 343 | Safaga\n",
      "Processing Record 344 | Krasnosel'kup\n",
      "Processing Record 345 | Hailar\n",
      "Processing Record 346 | Pathein\n",
      "Processing Record 347 | São José da Coroa Grande\n",
      "City not found...\n",
      "Processing Record 348 | Mazatlán\n",
      "Processing Record 349 | Viedma\n",
      "Processing Record 350 | Ciudad Bolivar\n",
      "Processing Record 351 | Touros\n",
      "Processing Record 352 | Burns Lake\n",
      "Processing Record 353 | Bodden Town\n",
      "Processing Record 354 | Codrington\n",
      "Processing Record 355 | Nuuk\n",
      "Processing Record 356 | Zacualtipán\n",
      "Processing Record 357 | Namatanai\n",
      "Processing Record 358 | Vágur\n",
      "Processing Record 359 | Palauig\n",
      "Processing Record 360 | São José dos Pinhais\n",
      "Processing Record 361 | Salinópolis\n",
      "Processing Record 362 | Gogrial\n",
      "City not found...\n",
      "Processing Record 363 | Tunceli\n",
      "Processing Record 364 | Imeni Poliny Osipenko\n",
      "Processing Record 365 | Aitape\n",
      "Processing Record 366 | Kathmandu\n",
      "Processing Record 367 | Tari\n",
      "Processing Record 368 | Manzanillo\n",
      "Processing Record 369 | Kansanshi\n",
      "City not found...\n",
      "Processing Record 370 | Wyszków\n",
      "Processing Record 371 | Khovd\n",
      "Processing Record 372 | Areosa\n",
      "Processing Record 373 | Agirish\n",
      "City not found...\n",
      "Processing Record 374 | Olinda\n",
      "Processing Record 375 | Stornoway\n",
      "Processing Record 376 | Akdepe\n",
      "Processing Record 377 | Baruun-Urt\n",
      "Processing Record 378 | Nicolás Bravo\n",
      "Processing Record 379 | Ayan\n",
      "City not found...\n",
      "Processing Record 380 | Gazojak\n",
      "Processing Record 381 | Boyolangu\n",
      "Processing Record 382 | Sasebo\n",
      "Processing Record 383 | Kyzyl-Suu\n",
      "Processing Record 384 | Carutapera\n",
      "Processing Record 385 | Bowen\n",
      "Processing Record 386 | Vila do Maio\n",
      "Processing Record 387 | Necochea\n",
      "Processing Record 388 | Muros\n",
      "Processing Record 389 | Isangel\n",
      "Processing Record 390 | Almuñécar\n",
      "Processing Record 391 | Koutsouras\n",
      "Processing Record 392 | Glubokiy\n",
      "Processing Record 393 | Kenora\n",
      "Processing Record 394 | Santa Lucía\n",
      "Processing Record 395 | Culebra\n",
      "Processing Record 396 | Elban\n",
      "Processing Record 397 | Redcar\n",
      "Processing Record 398 | Okhotsk\n",
      "Processing Record 399 | Alvand\n",
      "Processing Record 400 | Mora\n",
      "Processing Record 401 | Ulaanbaatar\n",
      "Processing Record 402 | Funadhoo\n",
      "Processing Record 403 | São João da Barra\n",
      "Processing Record 404 | Palmer\n",
      "Processing Record 405 | Kaduqli\n",
      "Processing Record 406 | Kirkwall\n",
      "Processing Record 407 | Solwezi\n",
      "Processing Record 408 | Vila Franca do Campo\n",
      "Processing Record 409 | Kropotkin\n",
      "Processing Record 410 | Fukuechō\n",
      "Processing Record 411 | Plouzané\n",
      "Processing Record 412 | Rawson\n",
      "Processing Record 413 | Kurumkan\n",
      "Processing Record 414 | Araouane\n",
      "City not found...\n",
      "Processing Record 415 | Brae\n",
      "Processing Record 416 | Tutóia\n",
      "Processing Record 417 | Oistins\n",
      "Processing Record 418 | Bagn\n",
      "Processing Record 419 | Rovaniemi\n",
      "Processing Record 420 | Mehamn\n",
      "Processing Record 421 | Bubaque\n",
      "Processing Record 422 | Qaţanā\n",
      "Processing Record 423 | Baracoa\n",
      "Processing Record 424 | Charleston\n",
      "Processing Record 425 | Jiaocheng\n",
      "Processing Record 426 | Taksimo\n",
      "Processing Record 427 | Sitka\n",
      "Processing Record 428 | Andújar\n",
      "Processing Record 429 | Sørland\n",
      "Processing Record 430 | Itarema\n",
      "Processing Record 431 | North Bend\n",
      "Processing Record 432 | Nantucket\n",
      "Processing Record 433 | Kodinsk\n",
      "Processing Record 434 | Praia da Vitória\n",
      "Processing Record 435 | Saint Anthony\n",
      "Processing Record 436 | Pozo Colorado\n",
      "Processing Record 437 | Sabzawār\n",
      "Processing Record 438 | Porto Velho\n",
      "Processing Record 439 | Kumul\n",
      "Processing Record 440 | Sakakah\n",
      "Processing Record 441 | Vorukh\n",
      "City not found...\n",
      "Processing Record 442 | Buala\n",
      "Processing Record 443 | Teya\n",
      "Processing Record 444 | Ekibastuz\n",
      "Processing Record 445 | Nabire\n",
      "Processing Record 446 | Wukari\n",
      "Processing Record 447 | Bhadrāchalam\n",
      "Processing Record 448 | Winneba\n",
      "Processing Record 449 | Porto Seguro\n",
      "Processing Record 450 | Catuday\n",
      "Processing Record 451 | Solnechnyy\n",
      "Processing Record 452 | Hermagor\n",
      "Processing Record 453 | Øksfjord\n",
      "Processing Record 454 | Tall Kayf\n",
      "Processing Record 455 | Quatre Cocos\n",
      "Processing Record 456 | Luanda\n",
      "Processing Record 457 | Saldanha\n",
      "Processing Record 458 | Buşayrā\n",
      "Processing Record 459 | Turaif\n",
      "Processing Record 460 | Chase\n",
      "Processing Record 461 | Forsytheganj\n",
      "Processing Record 462 | Paralímni\n",
      "Processing Record 463 | Nara\n",
      "Processing Record 464 | Cascais\n",
      "Processing Record 465 | Khor\n",
      "Processing Record 466 | Maragogi\n",
      "Processing Record 467 | Fort Nelson\n",
      "Processing Record 468 | Kautokeino\n",
      "City not found...\n",
      "Processing Record 469 | Coahuayana Viejo\n",
      "Processing Record 470 | Khomeyn\n",
      "Processing Record 471 | Kondagaon\n",
      "Processing Record 472 | Gizo Government Station\n"
     ]
    },
    {
     "name": "stdout",
     "output_type": "stream",
     "text": [
      "Processing Record 473 | Sinnamary\n",
      "Processing Record 474 | Kamina\n",
      "Processing Record 475 | Canmore\n",
      "Processing Record 476 | Ladário\n",
      "Processing Record 477 | Trelew\n",
      "Processing Record 478 | Wanning\n",
      "Processing Record 479 | Nishihara\n",
      "Processing Record 480 | Ulladulla\n",
      "Processing Record 481 | Moerai\n",
      "Processing Record 482 | Chifeng\n",
      "Processing Record 483 | Rome\n",
      "Processing Record 484 | Virginia Beach\n",
      "Processing Record 485 | San Ignacio\n",
      "Processing Record 486 | Gari\n",
      "Processing Record 487 | Oranjestad\n",
      "Processing Record 488 | Khasan\n",
      "Processing Record 489 | Leh\n",
      "Processing Record 490 | Lapeer\n",
      "Processing Record 491 | Narón\n",
      "Processing Record 492 | Río Gallegos\n",
      "Processing Record 493 | Egvekinot\n",
      "Processing Record 494 | Halifax\n",
      "Processing Record 495 | Berlevåg\n",
      "Processing Record 496 | Eagle Pass\n",
      "Processing Record 497 | Nioki\n",
      "Processing Record 498 | Sarab\n",
      "Processing Record 499 | Bhanjanagar\n",
      "Processing Record 500 | Kungurtug\n",
      "Processing Record 501 | Lata\n",
      "Processing Record 502 | Kanniyākumāri\n",
      "Processing Record 503 | Hay River\n",
      "Processing Record 504 | Winslow\n",
      "Processing Record 505 | Sisimiut\n",
      "Processing Record 506 | Kaeo\n",
      "Processing Record 507 | Rossland\n",
      "Processing Record 508 | Yekaterinovka\n",
      "Processing Record 509 | Nieuw Amsterdam\n",
      "Processing Record 510 | Moranbah\n",
      "Processing Record 511 | Cockburn Town\n",
      "City not found...\n",
      "Processing Record 512 | Uyuni\n",
      "Processing Record 513 | Buta\n",
      "Processing Record 514 | Yangambi\n",
      "Processing Record 515 | Tabou\n",
      "Processing Record 516 | Dingle\n",
      "City not found...\n",
      "Processing Record 517 | Lida\n",
      "Processing Record 518 | Smithers\n",
      "Processing Record 519 | Rocha\n",
      "Processing Record 520 | Saint-Leu\n",
      "City not found...\n",
      "Processing Record 521 | Stephenville\n",
      "Processing Record 522 | Bud\n",
      "Processing Record 523 | Deep River\n",
      "Processing Record 524 | Pangai\n",
      "Processing Record 525 | Ellsworth\n",
      "Processing Record 526 | Winnemucca\n",
      "Processing Record 527 | Ust'-Omchug\n",
      "Processing Record 528 | Caledon\n",
      "Processing Record 529 | Beidao\n",
      "Processing Record 530 | Cururupu\n",
      "City not found...\n",
      "City not found...\n",
      "Processing Record 531 | Krasnozerskoye\n",
      "Processing Record 532 | Kerema\n",
      "Processing Record 533 | Vilyuysk\n",
      "Processing Record 534 | Paamiut\n",
      "Processing Record 535 | Sibu\n",
      "Processing Record 536 | Newport\n",
      "Processing Record 537 | Mēga\n",
      "Processing Record 538 | Noumea\n",
      "Processing Record 539 | Port Hedland\n",
      "Processing Record 540 | Tessalit\n",
      "Processing Record 541 | Pelym\n",
      "City not found...\n",
      "Processing Record 542 | Yumen\n",
      "Processing Record 543 | Vao\n",
      "Processing Record 544 | Lahad Datu\n",
      "Processing Record 545 | Payson\n",
      "Processing Record 546 | Mayumba\n",
      "Processing Record 547 | Alcains\n",
      "Processing Record 548 | Tarabuco\n"
     ]
    }
   ],
   "source": [
    "# Save config information\n",
    "url = \"http://api.openweathermap.org/data/2.5/weather?units=Imperial\"\n",
    "\n",
    "# Build query URL\n",
    "query_url = f\"{url}&APPID={weather_api_key}\"\n",
    "\n",
    "# Set up empty lists to hold data from call\n",
    "\n",
    "city_name = []\n",
    "cloudiness = []\n",
    "country = []\n",
    "date = []\n",
    "humidity = []\n",
    "max_temp = []\n",
    "lat = []\n",
    "lng = []\n",
    "wind_speed = []\n",
    "\n",
    "# Create a loop counter\n",
    "\n",
    "count = 1\n",
    "\n",
    "# Start of log statement\n",
    "\n",
    "print(f\"Beginning Data Retrieval\")\n",
    "print(f\"-----------------------\")\n",
    "\n",
    "# Initialize loop\n",
    "\n",
    "for city in cities:\n",
    "    \n",
    "    try:\n",
    "        response = requests.get(f\"{query_url}&q={city}\").json()\n",
    "    \n",
    "        city_name.append(response[\"name\"])\n",
    "        cloudiness.append(response[\"clouds\"][\"all\"])\n",
    "        country.append(response[\"sys\"][\"country\"])\n",
    "        date.append(response[\"dt\"])\n",
    "        humidity.append(response[\"main\"][\"humidity\"])\n",
    "        max_temp.append(response[\"main\"][\"temp_max\"])\n",
    "        lat.append(response[\"coord\"][\"lat\"])\n",
    "        lng.append(response[\"coord\"][\"lon\"])\n",
    "        wind_speed.append(response[\"wind\"][\"speed\"])\n",
    "        \n",
    "        current_city = response[\"name\"]\n",
    "        print(f\"Processing Record {count} | {current_city}\")\n",
    "        \n",
    "        count = count + 1 \n",
    "    \n",
    "    except:\n",
    "        print(\"City not found...\")\n",
    "    continue\n",
    "    "
   ]
  },
  {
   "cell_type": "markdown",
   "metadata": {},
   "source": [
    "### Convert Raw Data to DataFrame\n",
    "* Export the city data into a .csv.\n",
    "* Display the DataFrame"
   ]
  },
  {
   "cell_type": "code",
   "execution_count": 5,
   "metadata": {
    "scrolled": true
   },
   "outputs": [
    {
     "data": {
      "text/html": [
       "<div>\n",
       "<style scoped>\n",
       "    .dataframe tbody tr th:only-of-type {\n",
       "        vertical-align: middle;\n",
       "    }\n",
       "\n",
       "    .dataframe tbody tr th {\n",
       "        vertical-align: top;\n",
       "    }\n",
       "\n",
       "    .dataframe thead th {\n",
       "        text-align: right;\n",
       "    }\n",
       "</style>\n",
       "<table border=\"1\" class=\"dataframe\">\n",
       "  <thead>\n",
       "    <tr style=\"text-align: right;\">\n",
       "      <th></th>\n",
       "      <th>City</th>\n",
       "      <th>Country</th>\n",
       "      <th>Latitude</th>\n",
       "      <th>Longtitude</th>\n",
       "      <th>Max Temp</th>\n",
       "      <th>Humidity</th>\n",
       "      <th>Cloudiness</th>\n",
       "      <th>Wind Speed</th>\n",
       "      <th>Date</th>\n",
       "    </tr>\n",
       "  </thead>\n",
       "  <tbody>\n",
       "    <tr>\n",
       "      <th>0</th>\n",
       "      <td>Ponta do Sol</td>\n",
       "      <td>PT</td>\n",
       "      <td>32.6667</td>\n",
       "      <td>-17.1000</td>\n",
       "      <td>60.01</td>\n",
       "      <td>77</td>\n",
       "      <td>84</td>\n",
       "      <td>1.01</td>\n",
       "      <td>1613009172</td>\n",
       "    </tr>\n",
       "    <tr>\n",
       "      <th>1</th>\n",
       "      <td>Bredasdorp</td>\n",
       "      <td>ZA</td>\n",
       "      <td>-34.5322</td>\n",
       "      <td>20.0403</td>\n",
       "      <td>62.60</td>\n",
       "      <td>94</td>\n",
       "      <td>1</td>\n",
       "      <td>2.30</td>\n",
       "      <td>1613009172</td>\n",
       "    </tr>\n",
       "    <tr>\n",
       "      <th>2</th>\n",
       "      <td>Kajaani</td>\n",
       "      <td>FI</td>\n",
       "      <td>64.2273</td>\n",
       "      <td>27.7285</td>\n",
       "      <td>-14.80</td>\n",
       "      <td>76</td>\n",
       "      <td>75</td>\n",
       "      <td>1.14</td>\n",
       "      <td>1613009172</td>\n",
       "    </tr>\n",
       "    <tr>\n",
       "      <th>3</th>\n",
       "      <td>Riyadh</td>\n",
       "      <td>SA</td>\n",
       "      <td>24.6877</td>\n",
       "      <td>46.7219</td>\n",
       "      <td>55.40</td>\n",
       "      <td>44</td>\n",
       "      <td>0</td>\n",
       "      <td>2.39</td>\n",
       "      <td>1613009101</td>\n",
       "    </tr>\n",
       "    <tr>\n",
       "      <th>4</th>\n",
       "      <td>Faya</td>\n",
       "      <td>SA</td>\n",
       "      <td>18.3851</td>\n",
       "      <td>42.4509</td>\n",
       "      <td>50.00</td>\n",
       "      <td>81</td>\n",
       "      <td>0</td>\n",
       "      <td>1.30</td>\n",
       "      <td>1613009172</td>\n",
       "    </tr>\n",
       "  </tbody>\n",
       "</table>\n",
       "</div>"
      ],
      "text/plain": [
       "           City Country  Latitude  Longtitude  Max Temp  Humidity  Cloudiness  \\\n",
       "0  Ponta do Sol      PT   32.6667    -17.1000     60.01        77          84   \n",
       "1    Bredasdorp      ZA  -34.5322     20.0403     62.60        94           1   \n",
       "2       Kajaani      FI   64.2273     27.7285    -14.80        76          75   \n",
       "3        Riyadh      SA   24.6877     46.7219     55.40        44           0   \n",
       "4          Faya      SA   18.3851     42.4509     50.00        81           0   \n",
       "\n",
       "   Wind Speed        Date  \n",
       "0        1.01  1613009172  \n",
       "1        2.30  1613009172  \n",
       "2        1.14  1613009172  \n",
       "3        2.39  1613009101  \n",
       "4        1.30  1613009172  "
      ]
     },
     "execution_count": 5,
     "metadata": {},
     "output_type": "execute_result"
    }
   ],
   "source": [
    "# Create dictionary with weather city data\n",
    "\n",
    "weather_dict = {\n",
    "    \"City\": city_name,\n",
    "    \"Country\": country,\n",
    "    \"Latitude\": lat,\n",
    "    \"Longtitude\": lng,\n",
    "    \"Max Temp\": max_temp,\n",
    "    \"Humidity\": humidity,\n",
    "    \"Cloudiness\": cloudiness,\n",
    "    \"Wind Speed\": wind_speed,\n",
    "    \"Date\": date\n",
    "}\n",
    "\n",
    "# Convert dictionary to dataframe\n",
    "\n",
    "weatherpy_data = pd.DataFrame(weather_dict)\n",
    "\n",
    "weatherpy_data.to_csv('output_data/cities.csv')\n",
    "\n",
    "weatherpy_data.head()"
   ]
  },
  {
   "cell_type": "code",
   "execution_count": 6,
   "metadata": {},
   "outputs": [
    {
     "data": {
      "text/html": [
       "<div>\n",
       "<style scoped>\n",
       "    .dataframe tbody tr th:only-of-type {\n",
       "        vertical-align: middle;\n",
       "    }\n",
       "\n",
       "    .dataframe tbody tr th {\n",
       "        vertical-align: top;\n",
       "    }\n",
       "\n",
       "    .dataframe thead th {\n",
       "        text-align: right;\n",
       "    }\n",
       "</style>\n",
       "<table border=\"1\" class=\"dataframe\">\n",
       "  <thead>\n",
       "    <tr style=\"text-align: right;\">\n",
       "      <th></th>\n",
       "      <th>Latitude</th>\n",
       "      <th>Longtitude</th>\n",
       "      <th>Max Temp</th>\n",
       "      <th>Humidity</th>\n",
       "      <th>Cloudiness</th>\n",
       "      <th>Wind Speed</th>\n",
       "      <th>Date</th>\n",
       "    </tr>\n",
       "  </thead>\n",
       "  <tbody>\n",
       "    <tr>\n",
       "      <th>count</th>\n",
       "      <td>548.000000</td>\n",
       "      <td>548.000000</td>\n",
       "      <td>548.000000</td>\n",
       "      <td>548.000000</td>\n",
       "      <td>548.000000</td>\n",
       "      <td>548.000000</td>\n",
       "      <td>5.480000e+02</td>\n",
       "    </tr>\n",
       "    <tr>\n",
       "      <th>mean</th>\n",
       "      <td>22.555758</td>\n",
       "      <td>16.056167</td>\n",
       "      <td>46.051588</td>\n",
       "      <td>73.948905</td>\n",
       "      <td>50.622263</td>\n",
       "      <td>7.679653</td>\n",
       "      <td>1.613009e+09</td>\n",
       "    </tr>\n",
       "    <tr>\n",
       "      <th>std</th>\n",
       "      <td>33.229837</td>\n",
       "      <td>90.067678</td>\n",
       "      <td>32.468591</td>\n",
       "      <td>18.512142</td>\n",
       "      <td>40.788768</td>\n",
       "      <td>6.086911</td>\n",
       "      <td>7.508246e+01</td>\n",
       "    </tr>\n",
       "    <tr>\n",
       "      <th>min</th>\n",
       "      <td>-54.800000</td>\n",
       "      <td>-179.166700</td>\n",
       "      <td>-36.400000</td>\n",
       "      <td>18.000000</td>\n",
       "      <td>0.000000</td>\n",
       "      <td>0.160000</td>\n",
       "      <td>1.613009e+09</td>\n",
       "    </tr>\n",
       "    <tr>\n",
       "      <th>25%</th>\n",
       "      <td>-4.150025</td>\n",
       "      <td>-64.157100</td>\n",
       "      <td>22.860000</td>\n",
       "      <td>65.000000</td>\n",
       "      <td>3.000000</td>\n",
       "      <td>3.440000</td>\n",
       "      <td>1.613009e+09</td>\n",
       "    </tr>\n",
       "    <tr>\n",
       "      <th>50%</th>\n",
       "      <td>29.668300</td>\n",
       "      <td>22.904000</td>\n",
       "      <td>57.305000</td>\n",
       "      <td>78.000000</td>\n",
       "      <td>42.500000</td>\n",
       "      <td>5.750000</td>\n",
       "      <td>1.613009e+09</td>\n",
       "    </tr>\n",
       "    <tr>\n",
       "      <th>75%</th>\n",
       "      <td>50.348825</td>\n",
       "      <td>93.770825</td>\n",
       "      <td>73.005000</td>\n",
       "      <td>87.000000</td>\n",
       "      <td>94.000000</td>\n",
       "      <td>10.360000</td>\n",
       "      <td>1.613009e+09</td>\n",
       "    </tr>\n",
       "    <tr>\n",
       "      <th>max</th>\n",
       "      <td>78.218600</td>\n",
       "      <td>179.316700</td>\n",
       "      <td>93.200000</td>\n",
       "      <td>100.000000</td>\n",
       "      <td>100.000000</td>\n",
       "      <td>34.290000</td>\n",
       "      <td>1.613009e+09</td>\n",
       "    </tr>\n",
       "  </tbody>\n",
       "</table>\n",
       "</div>"
      ],
      "text/plain": [
       "         Latitude  Longtitude    Max Temp    Humidity  Cloudiness  Wind Speed  \\\n",
       "count  548.000000  548.000000  548.000000  548.000000  548.000000  548.000000   \n",
       "mean    22.555758   16.056167   46.051588   73.948905   50.622263    7.679653   \n",
       "std     33.229837   90.067678   32.468591   18.512142   40.788768    6.086911   \n",
       "min    -54.800000 -179.166700  -36.400000   18.000000    0.000000    0.160000   \n",
       "25%     -4.150025  -64.157100   22.860000   65.000000    3.000000    3.440000   \n",
       "50%     29.668300   22.904000   57.305000   78.000000   42.500000    5.750000   \n",
       "75%     50.348825   93.770825   73.005000   87.000000   94.000000   10.360000   \n",
       "max     78.218600  179.316700   93.200000  100.000000  100.000000   34.290000   \n",
       "\n",
       "               Date  \n",
       "count  5.480000e+02  \n",
       "mean   1.613009e+09  \n",
       "std    7.508246e+01  \n",
       "min    1.613009e+09  \n",
       "25%    1.613009e+09  \n",
       "50%    1.613009e+09  \n",
       "75%    1.613009e+09  \n",
       "max    1.613009e+09  "
      ]
     },
     "execution_count": 6,
     "metadata": {},
     "output_type": "execute_result"
    }
   ],
   "source": [
    "# Display dataframe stats with describe function\n",
    "\n",
    "weatherpy_data.describe()"
   ]
  },
  {
   "cell_type": "markdown",
   "metadata": {},
   "source": [
    "## Inspect the data and remove the cities where the humidity > 100%.\n",
    "----\n",
    "Skip this step if there are no cities that have humidity > 100%. "
   ]
  },
  {
   "cell_type": "code",
   "execution_count": 7,
   "metadata": {},
   "outputs": [],
   "source": [
    "weatherpy_data = weatherpy_data[weatherpy_data[\"Humidity\"] <= 100]"
   ]
  },
  {
   "cell_type": "markdown",
   "metadata": {},
   "source": [
    "## Plotting the Data\n",
    "* Use proper labeling of the plots using plot titles (including date of analysis) and axes labels.\n",
    "* Save the plotted figures as .pngs."
   ]
  },
  {
   "cell_type": "markdown",
   "metadata": {},
   "source": [
    "## Latitude vs. Temperature Plot"
   ]
  },
  {
   "cell_type": "code",
   "execution_count": 8,
   "metadata": {
    "scrolled": true
   },
   "outputs": [
    {
     "data": {
      "image/png": "[encoded data removed]",
      "text/plain": [
       "<Figure size 432x288 with 1 Axes>"
      ]
     },
     "metadata": {
      "needs_background": "light"
     },
     "output_type": "display_data"
    }
   ],
   "source": [
    "x_values = weatherpy_data['Latitude']\n",
    "y_values = weatherpy_data['Max Temp']\n",
    "plt.scatter(x_values, y_values)\n",
    "\n",
    "plt.title(\"Latitude vs. Max Temperature\")\n",
    "plt.ylabel(\"Max Temp (F)\")\n",
    "plt.xlabel(\"Latitude\")\n",
    "plt.grid(True)\n",
    "\n",
    "plt.savefig(\"output_data/latmaxtemp.png\")\n",
    "\n",
    "plt.show()"
   ]
  },
  {
   "cell_type": "markdown",
   "metadata": {},
   "source": [
    "## Latitude vs. Humidity Plot"
   ]
  },
  {
   "cell_type": "code",
   "execution_count": 9,
   "metadata": {},
   "outputs": [
    {
     "data": {
      "image/png": "[encoded data removed]",
      "text/plain": [
       "<Figure size 432x288 with 1 Axes>"
      ]
     },
     "metadata": {
      "needs_background": "light"
     },
     "output_type": "display_data"
    }
   ],
   "source": [
    "x_values = weatherpy_data['Latitude']\n",
    "y_values = weatherpy_data['Humidity']\n",
    "plt.scatter(x_values, y_values)\n",
    "\n",
    "plt.title(\"Latitude vs. Humidity\")\n",
    "plt.ylabel(\"Humidity\")\n",
    "plt.xlabel(\"Latitude\")\n",
    "plt.grid(True)\n",
    "\n",
    "plt.savefig(\"output_data/lathumidity.png\")\n",
    "\n",
    "plt.show()"
   ]
  },
  {
   "cell_type": "markdown",
   "metadata": {},
   "source": [
    "## Latitude vs. Cloudiness Plot"
   ]
  },
  {
   "cell_type": "code",
   "execution_count": 10,
   "metadata": {},
   "outputs": [
    {
     "data": {
      "image/png": "[encoded data removed]",
      "text/plain": [
       "<Figure size 432x288 with 1 Axes>"
      ]
     },
     "metadata": {
      "needs_background": "light"
     },
     "output_type": "display_data"
    }
   ],
   "source": [
    "x_values = weatherpy_data['Latitude']\n",
    "y_values = weatherpy_data['Cloudiness']\n",
    "plt.scatter(x_values, y_values)\n",
    "\n",
    "plt.title(\"Latitude vs. Cloudiness\")\n",
    "plt.ylabel(\"Cloudiness(%)\")\n",
    "plt.xlabel(\"Latitude\")\n",
    "plt.grid(True)\n",
    "\n",
    "plt.savefig(\"output_data/latcloudiness.png\")\n",
    "\n",
    "plt.show()"
   ]
  },
  {
   "cell_type": "markdown",
   "metadata": {},
   "source": [
    "## Latitude vs. Wind Speed Plot"
   ]
  },
  {
   "cell_type": "code",
   "execution_count": 11,
   "metadata": {},
   "outputs": [
    {
     "data": {
      "image/png": "[encoded data removed]",
      "text/plain": [
       "<Figure size 432x288 with 1 Axes>"
      ]
     },
     "metadata": {
      "needs_background": "light"
     },
     "output_type": "display_data"
    }
   ],
   "source": [
    "x_values = weatherpy_data['Latitude']\n",
    "y_values = weatherpy_data['Wind Speed']\n",
    "plt.scatter(x_values, y_values)\n",
    "\n",
    "plt.title(\"Latitude vs. Wind Speed\")\n",
    "plt.ylabel(\"Wind Speed\")\n",
    "plt.xlabel(\"Latitude\")\n",
    "plt.grid(True)\n",
    "\n",
    "plt.savefig(\"output_data/latwindspeed.png\")\n",
    "\n",
    "plt.show()"
   ]
  },
  {
   "cell_type": "markdown",
   "metadata": {},
   "source": [
    "## Linear Regression"
   ]
  },
  {
   "cell_type": "code",
   "execution_count": null,
   "metadata": {},
   "outputs": [],
   "source": []
  },
  {
   "cell_type": "markdown",
   "metadata": {},
   "source": [
    "####  Northern Hemisphere - Max Temp vs. Latitude Linear Regression"
   ]
  },
  {
   "cell_type": "code",
   "execution_count": 19,
   "metadata": {},
   "outputs": [
    {
     "ename": "TypeError",
     "evalue": "'>' not supported between instances of 'list' and 'int'",
     "output_type": "error",
     "traceback": [
      "\u001b[0;31m---------------------------------------------------------------------------\u001b[0m",
      "\u001b[0;31mTypeError\u001b[0m                                 Traceback (most recent call last)",
      "\u001b[0;32m<ipython-input-19-1753ef0bf59e>\u001b[0m in \u001b[0;36m<module>\u001b[0;34m\u001b[0m\n\u001b[0;32m----> 1\u001b[0;31m \u001b[0mx_valuesn\u001b[0m \u001b[0;34m=\u001b[0m \u001b[0mweatherpy_data\u001b[0m\u001b[0;34m[\u001b[0m\u001b[0;34m[\u001b[0m\u001b[0;34m'Latitude'\u001b[0m\u001b[0;34m]\u001b[0m \u001b[0;34m>\u001b[0m \u001b[0;36m0\u001b[0m\u001b[0;34m]\u001b[0m\u001b[0;34m\u001b[0m\u001b[0;34m\u001b[0m\u001b[0m\n\u001b[0m\u001b[1;32m      2\u001b[0m \u001b[0my_values\u001b[0m \u001b[0;34m=\u001b[0m \u001b[0mweatherpy_data\u001b[0m\u001b[0;34m[\u001b[0m\u001b[0;34m'Max Temp'\u001b[0m\u001b[0;34m]\u001b[0m\u001b[0;34m\u001b[0m\u001b[0;34m\u001b[0m\u001b[0m\n\u001b[1;32m      3\u001b[0m \u001b[0;34m\u001b[0m\u001b[0m\n\u001b[1;32m      4\u001b[0m \u001b[0;34m(\u001b[0m\u001b[0mslope\u001b[0m\u001b[0;34m,\u001b[0m \u001b[0mintercept\u001b[0m\u001b[0;34m,\u001b[0m \u001b[0mrvalue\u001b[0m\u001b[0;34m,\u001b[0m \u001b[0mpvalue\u001b[0m\u001b[0;34m,\u001b[0m \u001b[0mstderr\u001b[0m\u001b[0;34m)\u001b[0m \u001b[0;34m=\u001b[0m \u001b[0mlinregress\u001b[0m\u001b[0;34m(\u001b[0m\u001b[0mx_valuesn\u001b[0m\u001b[0;34m,\u001b[0m \u001b[0my_values\u001b[0m\u001b[0;34m)\u001b[0m\u001b[0;34m\u001b[0m\u001b[0;34m\u001b[0m\u001b[0m\n\u001b[1;32m      5\u001b[0m \u001b[0mregress_values\u001b[0m \u001b[0;34m=\u001b[0m \u001b[0mx_valuesn\u001b[0m \u001b[0;34m*\u001b[0m \u001b[0mslope\u001b[0m \u001b[0;34m+\u001b[0m \u001b[0mintercept\u001b[0m\u001b[0;34m\u001b[0m\u001b[0;34m\u001b[0m\u001b[0m\n",
      "\u001b[0;31mTypeError\u001b[0m: '>' not supported between instances of 'list' and 'int'"
     ]
    }
   ],
   "source": [
    "x_valuesn = weatherpy_data[['Latitude'] > 0]\n",
    "y_values = weatherpy_data['Max Temp']\n",
    "\n",
    "(slope, intercept, rvalue, pvalue, stderr) = linregress(x_valuesn, y_values)\n",
    "regress_values = x_valuesn * slope + intercept\n",
    "line_eq = \"y = \" + str(round(slope,2)) + \"x + \" + str(round(intercept,2))\n",
    "plt.scatter(x_valuesn,y_values)\n",
    "plt.plot(x_values,regress_values,\"r-\")\n",
    "plt.annotate(line_eq,(6,10),fontsize=15,color=\"red\")\n",
    "plt.title(\"Latitude vs. Max Temperature (Northern Hemisphere)\")\n",
    "plt.xlabel(\"Latitude\")\n",
    "plt.ylabel(\"Max Temp (F)\")\n",
    "print(f\"The r-squared is: {rvalue**2}\")\n",
    "plt.show()\n",
    "\n",
    "plt.savefig(\"output_data/latmaxtempregression_north.png\")\n",
    "\n",
    "plt.show()"
   ]
  },
  {
   "cell_type": "markdown",
   "metadata": {},
   "source": [
    "####  Southern Hemisphere - Max Temp vs. Latitude Linear Regression"
   ]
  },
  {
   "cell_type": "code",
   "execution_count": 12,
   "metadata": {},
   "outputs": [
    {
     "name": "stdout",
     "output_type": "stream",
     "text": [
      "The r-squared is: 0.6303989098717053\n"
     ]
    },
    {
     "data": {
      "image/png": "[encoded data removed]",
      "text/plain": [
       "<Figure size 432x288 with 1 Axes>"
      ]
     },
     "metadata": {
      "needs_background": "light"
     },
     "output_type": "display_data"
    },
    {
     "data": {
      "text/plain": [
       "<Figure size 432x288 with 0 Axes>"
      ]
     },
     "metadata": {},
     "output_type": "display_data"
    }
   ],
   "source": [
    "x_values = weatherpy_data['Latitude']\n",
    "y_values = weatherpy_data['Max Temp']\n",
    "\n",
    "(slope, intercept, rvalue, pvalue, stderr) = linregress(x_values, y_values)\n",
    "regress_values = x_values * slope + intercept\n",
    "line_eq = \"y = \" + str(round(slope,2)) + \"x + \" + str(round(intercept,2))\n",
    "plt.scatter(x_values,y_values)\n",
    "plt.plot(x_values,regress_values,\"r-\")\n",
    "plt.annotate(line_eq,(6,10),fontsize=15,color=\"red\")\n",
    "plt.title(\"Latitude vs. Max Temperature\")\n",
    "plt.xlabel(\"Latitude\")\n",
    "plt.ylabel(\"Max Temp (F)\")\n",
    "print(f\"The r-squared is: {rvalue**2}\")\n",
    "plt.show()\n",
    "\n",
    "plt.savefig(\"output_data/latmaxtempregression_south.png\")\n",
    "\n",
    "plt.show()"
   ]
  },
  {
   "cell_type": "markdown",
   "metadata": {},
   "source": [
    "####  Northern Hemisphere - Humidity (%) vs. Latitude Linear Regression"
   ]
  },
  {
   "cell_type": "code",
   "execution_count": 13,
   "metadata": {},
   "outputs": [
    {
     "name": "stdout",
     "output_type": "stream",
     "text": [
      "The r-squared is: 0.003370961679103496\n"
     ]
    },
    {
     "data": {
      "image/png": "[encoded data removed]",
      "text/plain": [
       "<Figure size 432x288 with 1 Axes>"
      ]
     },
     "metadata": {
      "needs_background": "light"
     },
     "output_type": "display_data"
    },
    {
     "data": {
      "text/plain": [
       "<Figure size 432x288 with 0 Axes>"
      ]
     },
     "metadata": {},
     "output_type": "display_data"
    }
   ],
   "source": [
    "x_values = weatherpy_data['Latitude']\n",
    "y_values = weatherpy_data['Humidity']\n",
    "\n",
    "(slope, intercept, rvalue, pvalue, stderr) = linregress(x_values, y_values)\n",
    "regress_values = x_values * slope + intercept\n",
    "line_eq = \"y = \" + str(round(slope,2)) + \"x + \" + str(round(intercept,2))\n",
    "plt.scatter(x_values,y_values)\n",
    "plt.plot(x_values,regress_values,\"r-\")\n",
    "plt.annotate(line_eq,(6,10),fontsize=15,color=\"red\")\n",
    "plt.title(\"Latitude vs. Humidity\")\n",
    "plt.xlabel(\"Latitude\")\n",
    "plt.ylabel(\"Humidity\")\n",
    "print(f\"The r-squared is: {rvalue**2}\")\n",
    "plt.show()\n",
    "\n",
    "plt.savefig(\"output_data/lathumidityregression_north.png\")\n",
    "\n",
    "plt.show()"
   ]
  },
  {
   "cell_type": "markdown",
   "metadata": {},
   "source": [
    "####  Southern Hemisphere - Humidity (%) vs. Latitude Linear Regression"
   ]
  },
  {
   "cell_type": "code",
   "execution_count": 20,
   "metadata": {},
   "outputs": [
    {
     "name": "stdout",
     "output_type": "stream",
     "text": [
      "The r-squared is: 0.003370961679103496\n"
     ]
    },
    {
     "data": {
      "image/png": "[encoded data removed]",
      "text/plain": [
       "<Figure size 432x288 with 1 Axes>"
      ]
     },
     "metadata": {
      "needs_background": "light"
     },
     "output_type": "display_data"
    },
    {
     "data": {
      "text/plain": [
       "<Figure size 432x288 with 0 Axes>"
      ]
     },
     "metadata": {},
     "output_type": "display_data"
    }
   ],
   "source": [
    "x_values = weatherpy_data['Latitude']\n",
    "y_values = weatherpy_data['Humidity']\n",
    "\n",
    "(slope, intercept, rvalue, pvalue, stderr) = linregress(x_values, y_values)\n",
    "regress_values = x_values * slope + intercept\n",
    "line_eq = \"y = \" + str(round(slope,2)) + \"x + \" + str(round(intercept,2))\n",
    "plt.scatter(x_values,y_values)\n",
    "plt.plot(x_values,regress_values,\"r-\")\n",
    "plt.annotate(line_eq,(6,10),fontsize=15,color=\"red\")\n",
    "plt.title(\"Latitude vs. Humidity\")\n",
    "plt.xlabel(\"Latitude\")\n",
    "plt.ylabel(\"Humidity\")\n",
    "print(f\"The r-squared is: {rvalue**2}\")\n",
    "plt.show()\n",
    "\n",
    "plt.savefig(\"output_data/lathumidityregression_south.png\")\n",
    "\n",
    "plt.show()"
   ]
  },
  {
   "cell_type": "markdown",
   "metadata": {},
   "source": [
    "####  Northern Hemisphere - Cloudiness (%) vs. Latitude Linear Regression"
   ]
  },
  {
   "cell_type": "code",
   "execution_count": 15,
   "metadata": {},
   "outputs": [
    {
     "name": "stdout",
     "output_type": "stream",
     "text": [
      "The r-squared is: 0.07815616015590084\n"
     ]
    },
    {
     "data": {
      "image/png": "[encoded data removed]",
      "text/plain": [
       "<Figure size 432x288 with 1 Axes>"
      ]
     },
     "metadata": {
      "needs_background": "light"
     },
     "output_type": "display_data"
    },
    {
     "data": {
      "text/plain": [
       "<Figure size 432x288 with 0 Axes>"
      ]
     },
     "metadata": {},
     "output_type": "display_data"
    }
   ],
   "source": [
    "x_values = weatherpy_data['Cloudiness']\n",
    "y_values = weatherpy_data['Humidity']\n",
    "\n",
    "(slope, intercept, rvalue, pvalue, stderr) = linregress(x_values, y_values)\n",
    "regress_values = x_values * slope + intercept\n",
    "line_eq = \"y = \" + str(round(slope,2)) + \"x + \" + str(round(intercept,2))\n",
    "plt.scatter(x_values,y_values)\n",
    "plt.plot(x_values,regress_values,\"r-\")\n",
    "plt.annotate(line_eq,(6,10),fontsize=15,color=\"red\")\n",
    "plt.title(\"Latitude vs. Cloudiness\")\n",
    "plt.xlabel(\"Latitude\")\n",
    "plt.ylabel(\"Cloudiness(%)\")\n",
    "print(f\"The r-squared is: {rvalue**2}\")\n",
    "plt.show()\n",
    "\n",
    "plt.savefig(\"output_data/latcloudinessregression_north.png\")\n",
    "\n",
    "plt.show()"
   ]
  },
  {
   "cell_type": "markdown",
   "metadata": {},
   "source": [
    "####  Southern Hemisphere - Cloudiness (%) vs. Latitude Linear Regression"
   ]
  },
  {
   "cell_type": "code",
   "execution_count": 16,
   "metadata": {},
   "outputs": [
    {
     "name": "stdout",
     "output_type": "stream",
     "text": [
      "The r-squared is: 0.07815616015590084\n"
     ]
    },
    {
     "data": {
      "image/png": "[encoded data removed]",
      "text/plain": [
       "<Figure size 432x288 with 1 Axes>"
      ]
     },
     "metadata": {
      "needs_background": "light"
     },
     "output_type": "display_data"
    },
    {
     "data": {
      "text/plain": [
       "<Figure size 432x288 with 0 Axes>"
      ]
     },
     "metadata": {},
     "output_type": "display_data"
    }
   ],
   "source": [
    "x_values = weatherpy_data['Cloudiness']\n",
    "y_values = weatherpy_data['Humidity']\n",
    "\n",
    "(slope, intercept, rvalue, pvalue, stderr) = linregress(x_values, y_values)\n",
    "regress_values = x_values * slope + intercept\n",
    "line_eq = \"y = \" + str(round(slope,2)) + \"x + \" + str(round(intercept,2))\n",
    "plt.scatter(x_values,y_values)\n",
    "plt.plot(x_values,regress_values,\"r-\")\n",
    "plt.annotate(line_eq,(6,10),fontsize=15,color=\"red\")\n",
    "plt.title(\"Latitude vs. Cloudiness\")\n",
    "plt.xlabel(\"Latitude\")\n",
    "plt.ylabel(\"Cloudiness(%)\")\n",
    "print(f\"The r-squared is: {rvalue**2}\")\n",
    "plt.show()\n",
    "\n",
    "plt.savefig(\"output_data/latcloudinessregression_south.png\")\n",
    "\n",
    "plt.show()"
   ]
  },
  {
   "cell_type": "markdown",
   "metadata": {},
   "source": [
    "####  Northern Hemisphere - Wind Speed (mph) vs. Latitude Linear Regression"
   ]
  },
  {
   "cell_type": "code",
   "execution_count": 17,
   "metadata": {},
   "outputs": [
    {
     "name": "stdout",
     "output_type": "stream",
     "text": [
      "The r-squared is: 0.0006213783408731376\n"
     ]
    },
    {
     "data": {
      "image/png": "[encoded data removed]",
      "text/plain": [
       "<Figure size 432x288 with 1 Axes>"
      ]
     },
     "metadata": {
      "needs_background": "light"
     },
     "output_type": "display_data"
    },
    {
     "data": {
      "text/plain": [
       "<Figure size 432x288 with 0 Axes>"
      ]
     },
     "metadata": {},
     "output_type": "display_data"
    }
   ],
   "source": [
    "x_values = weatherpy_data['Latitude']\n",
    "y_values = weatherpy_data['Wind Speed']\n",
    "\n",
    "(slope, intercept, rvalue, pvalue, stderr) = linregress(x_values, y_values)\n",
    "regress_values = x_values * slope + intercept\n",
    "line_eq = \"y = \" + str(round(slope,2)) + \"x + \" + str(round(intercept,2))\n",
    "plt.scatter(x_values,y_values)\n",
    "plt.plot(x_values,regress_values,\"r-\")\n",
    "plt.annotate(line_eq,(6,10),fontsize=15,color=\"red\")\n",
    "plt.title(\"Latitude vs. Wind Speed\")\n",
    "plt.xlabel(\"Latitude\")\n",
    "plt.ylabel(\"Wind Speed(mph)\")\n",
    "print(f\"The r-squared is: {rvalue**2}\")\n",
    "plt.show()\n",
    "\n",
    "plt.savefig(\"output_data/latwindregression_north.png\")\n",
    "\n",
    "plt.show()"
   ]
  },
  {
   "cell_type": "markdown",
   "metadata": {},
   "source": [
    "####  Southern Hemisphere - Wind Speed (mph) vs. Latitude Linear Regression"
   ]
  },
  {
   "cell_type": "code",
   "execution_count": 18,
   "metadata": {},
   "outputs": [
    {
     "name": "stdout",
     "output_type": "stream",
     "text": [
      "The r-squared is: 0.0006213783408731376\n"
     ]
    },
    {
     "data": {
      "image/png": "[encoded data removed]",
      "text/plain": [
       "<Figure size 432x288 with 1 Axes>"
      ]
     },
     "metadata": {
      "needs_background": "light"
     },
     "output_type": "display_data"
    },
    {
     "data": {
      "text/plain": [
       "<Figure size 432x288 with 0 Axes>"
      ]
     },
     "metadata": {},
     "output_type": "display_data"
    }
   ],
   "source": [
    "x_values = weatherpy_data['Latitude']\n",
    "y_values = weatherpy_data['Wind Speed']\n",
    "\n",
    "(slope, intercept, rvalue, pvalue, stderr) = linregress(x_values, y_values)\n",
    "regress_values = x_values * slope + intercept\n",
    "line_eq = \"y = \" + str(round(slope,2)) + \"x + \" + str(round(intercept,2))\n",
    "plt.scatter(x_values,y_values)\n",
    "plt.plot(x_values,regress_values,\"r-\")\n",
    "plt.annotate(line_eq,(6,10),fontsize=15,color=\"red\")\n",
    "plt.title(\"Latitude vs. Wind Speed\")\n",
    "plt.xlabel(\"Latitude\")\n",
    "plt.ylabel(\"Wind Speed(mph)\")\n",
    "print(f\"The r-squared is: {rvalue**2}\")\n",
    "plt.show()\n",
    "\n",
    "plt.savefig(\"output_data/latwindregression_south.png\")\n",
    "\n",
    "plt.show()"
   ]
  },
  {
   "cell_type": "code",
   "execution_count": null,
   "metadata": {},
   "outputs": [],
   "source": []
  }
 ],
 "metadata": {
  "anaconda-cloud": {},
  "kernel_info": {
   "name": "python3"
  },
  "kernelspec": {
   "display_name": "Python [conda env:PythonData] *",
   "language": "python",
   "name": "conda-env-PythonData-py"
  },
  "language_info": {
   "codemirror_mode": {
    "name": "ipython",
    "version": 3
   },
   "file_extension": ".py",
   "mimetype": "text/x-python",
   "name": "python",
   "nbconvert_exporter": "python",
   "pygments_lexer": "ipython3",
   "version": "3.6.10"
  },
  "latex_envs": {
   "LaTeX_envs_menu_present": true,
   "autoclose": false,
   "autocomplete": true,
   "bibliofile": "biblio.bib",
   "cite_by": "apalike",
   "current_citInitial": 1,
   "eqLabelWithNumbers": true,
   "eqNumInitial": 1,
   "hotkeys": {
    "equation": "Ctrl-E",
    "itemize": "Ctrl-I"
   },
   "labels_anchors": false,
   "latex_user_defs": false,
   "report_style_numbering": false,
   "user_envs_cfg": false
  },
  "nteract": {
   "version": "0.12.3"
  }
 },
 "nbformat": 4,
 "nbformat_minor": 2
}
